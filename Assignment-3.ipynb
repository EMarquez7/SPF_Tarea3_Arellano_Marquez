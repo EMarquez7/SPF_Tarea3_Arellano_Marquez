{
 "cells": [
  {
   "attachments": {},
   "cell_type": "markdown",
   "metadata": {},
   "source": [
    "<font color= 'orange'> Python Practice Ex. 3 </font>\n",
    "\n",
    "**Repository**: [![Practice Ex. 3](https://img.shields.io/badge/Notebook-white?style=square&logo=github&logoColor=black)](https://github.com/EstebanMqz//Basic-Ex.3/blob/main/Assignment-3.ipynb)\n",
    "<font>\n",
    "<br><br>\n",
    "\n",
    "<Details>\n",
    "<Summary> <b>Work Contact:</b> </Summary> \n",
    "\n",
    "[![Website](https://img.shields.io/badge/Website-ffffff?style=square&logo=opera&logoColor=red)](https://estebanmqz.com) [![LinkedIn](https://img.shields.io/badge/LinkedIn-041a80?style=square&logo=linkedin&logoColor=white)](https://www.linkedin.com/in/esteban-m65381722210212839/) [![Portfolio](https://img.shields.io/badge/Github-Portfolio-010b38?style=square&logo=github&logoColor=black)](https://estebanmqz.github.io/Portfolio/) [![E-mail](https://img.shields.io/badge/Business-Mail-052ce6?style=square&logo=mail&logoColor=white)](mailto:esteban@esteban.com)  \n",
    "\n",
    "![GitHub Logo](https://github.com/EstebanMqz.png?size=25) [![Github](https://img.shields.io/badge/Github-000000?style=square&logo=github&logoColor=white)](https://github.com/EstebanMqz)\n",
    "<br><br>\n",
    "\n",
    "![GitHub Logo](https://github.com/IvanArellanoRuelas.png?size=25) [![Github](https://img.shields.io/badge/Github-000000?style=square&logo=github&logoColor=white)](https://github.com/IvanArellanoRuelas)\n",
    "\n",
    "</Details>"
   ]
  },
  {
   "attachments": {},
   "cell_type": "markdown",
   "metadata": {},
   "source": [
    "1. Solve the following recursive equation using functions as seen in class\n",
    "$$ D_{n}=(n-1) D_{n-1}+(n-1) D_{n-2} \\quad n\\ge 3$$\n",
    "with $D_1=0$ and $D_2 = 1$"
   ]
  },
  {
   "attachments": {},
   "cell_type": "markdown",
   "metadata": {},
   "source": [
    "#### <span style='color:lightbrown'> 1. Ivan Arellano Ruelas </span><br> "
   ]
  },
  {
   "cell_type": "code",
   "execution_count": 2,
   "metadata": {},
   "outputs": [
    {
     "data": {
      "text/plain": [
       "array([0., 1., 2., 9.])"
      ]
     },
     "execution_count": 2,
     "metadata": {},
     "output_type": "execute_result"
    }
   ],
   "source": [
    "import numpy as np\n",
    "\n",
    "def step():\n",
    "    '''\n",
    "    This function resolves the recursive method\n",
    "    '''\n",
    "    D = np.zeros(4)\n",
    "    D[0]=0\n",
    "    D[1]=1\n",
    "    def fill_vector(x):\n",
    "        nonlocal D\n",
    "        D[x] = (x)*D[x-1] + (x)*D[x-2]\n",
    "    [fill_vector(x) for x in range(2,4)]\n",
    "    return D\n",
    "\n",
    "step()"
   ]
  },
  {
   "attachments": {},
   "cell_type": "markdown",
   "metadata": {},
   "source": [
    "##### <span style='color:lightblue'> 1. EstebanMqz </span><br> "
   ]
  },
  {
   "cell_type": "code",
   "execution_count": 3,
   "metadata": {},
   "outputs": [
    {
     "data": {
      "text/plain": [
       "array([  0.,   1.,   2.,   9.,  44., 265.])"
      ]
     },
     "execution_count": 3,
     "metadata": {},
     "output_type": "execute_result"
    }
   ],
   "source": [
    "def cong_method1():\n",
    "    '''\n",
    "    This function contains the programming of the congruential method for the recursive sequence\n",
    "    Dn=(n-1)*D(n-1)+(n-1)*D(n-2), D1=0 and D2=1 without using a for loop but using a list comprehension.\n",
    "    '''\n",
    "    \n",
    "    D = np.zeros(6) #Create vector before filling, it is local.\n",
    "    D[0]=0 #i.c 1°\n",
    "    D[1]=1 #i.c 2°\n",
    "    \n",
    "    def fill_vector(i):\n",
    "        nonlocal D # D only exists outside and with local it also exists here\n",
    "        D[i] = (i)*D[i-1] + (i)*D[i-2]\n",
    "    [fill_vector(i) for i in range(2,6)] #Filled up to 6 because it is the size of the vector and so that it does not return exponentials.\n",
    "    return D\n",
    "\n",
    "cong_method1()"
   ]
  },
  {
   "attachments": {},
   "cell_type": "markdown",
   "metadata": {},
   "source": [
    "2. Count the number of spaces in the following string `variable = relation requires, to obtain the value of a certain term, the knowledge of the previous two`."
   ]
  },
  {
   "cell_type": "code",
   "execution_count": 4,
   "metadata": {},
   "outputs": [],
   "source": [
    "variable =  'variable = relation requires, to obtain the value of a certain term, the knowledge of the previous two'"
   ]
  },
  {
   "attachments": {},
   "cell_type": "markdown",
   "metadata": {},
   "source": [
    "#### <span style='color:lightbrown'> 2. Ivan Arellano Ruelas </span><br> "
   ]
  },
  {
   "cell_type": "code",
   "execution_count": 5,
   "metadata": {},
   "outputs": [
    {
     "data": {
      "text/plain": [
       "17"
      ]
     },
     "execution_count": 5,
     "metadata": {},
     "output_type": "execute_result"
    }
   ],
   "source": [
    "[letter for letter in variable if letter==' '].count(' ')"
   ]
  },
  {
   "attachments": {},
   "cell_type": "markdown",
   "metadata": {},
   "source": [
    "##### <span style='color:lightblue'> 2. EstebanMqz </span><br> "
   ]
  },
  {
   "cell_type": "code",
   "execution_count": 6,
   "metadata": {},
   "outputs": [
    {
     "data": {
      "text/plain": [
       "17"
      ]
     },
     "execution_count": 6,
     "metadata": {},
     "output_type": "execute_result"
    }
   ],
   "source": [
    "spaces = [n for n in variable if n == ' ']\n",
    "len(spaces)"
   ]
  },
  {
   "attachments": {},
   "cell_type": "markdown",
   "metadata": {},
   "source": [
    "3. Remove all of the vowels in a string [make a list of the non-vowels]."
   ]
  },
  {
   "attachments": {},
   "cell_type": "markdown",
   "metadata": {},
   "source": [
    "#### <span style='color:lightbrown'> 3. Ivan Arellano Ruelas </span><br> "
   ]
  },
  {
   "cell_type": "code",
   "execution_count": 7,
   "metadata": {},
   "outputs": [],
   "source": [
    "def rem_vowels(string:'Text input'):\n",
    "    '''\n",
    "    In this function the vowels are removed from any\n",
    "    text string\n",
    "    -----------\n",
    "    string: Text input\n",
    "    '''\n",
    "    vowels = ['a','e','i','o','u']\n",
    "    result = [letter for letter in string if letter.lower() not in vowels]\n",
    "    result = ''.join(result)\n",
    "    print(result)"
   ]
  },
  {
   "cell_type": "code",
   "execution_count": 8,
   "metadata": {},
   "outputs": [
    {
     "name": "stdout",
     "output_type": "stream",
     "text": [
      "Srry vn, 'm stbn  ccdntlly dltd yr sntnc.\n"
     ]
    }
   ],
   "source": [
    "string= \"Sorry Ivan, I'm Esteban I accidentally deleted your sentence.\"\n",
    "rem_vowels(string)"
   ]
  },
  {
   "attachments": {},
   "cell_type": "markdown",
   "metadata": {},
   "source": [
    "##### <span style='color:lightblue'> 3. EstebanMqz </span><br> "
   ]
  },
  {
   "cell_type": "code",
   "execution_count": 9,
   "metadata": {},
   "outputs": [
    {
     "name": "stdout",
     "output_type": "stream",
     "text": [
      "['T', 'h', 's', ' ', 's', ' ', ' ', 'r', 'n', 'd', 'm', ' ', 's', 't', 'r', 'n', 'g', ' ', 'f', 'r', ' ', 's', 't', 'b', 'n', ' ', 'x', 'r', 'c', 's', ' ', '3']\n"
     ]
    }
   ],
   "source": [
    "words_3 = 'This is a random string for Esteban exercise 3'\n",
    "v = ('A', 'E', 'I', 'O', 'U', 'a', 'e', 'i', 'o', 'u', 'á', 'é', 'í', 'ó', 'ú')\n",
    "c = [c for c in words_3 if c not in v]\n",
    "print(c)"
   ]
  },
  {
   "attachments": {},
   "cell_type": "markdown",
   "metadata": {},
   "source": [
    "4. Find all of the words in a string that are less than 4 letters."
   ]
  },
  {
   "attachments": {},
   "cell_type": "markdown",
   "metadata": {},
   "source": [
    "#### <span style='color:lightbrown'> 4. Ivan Arellano Ruelas </span><br> "
   ]
  },
  {
   "cell_type": "code",
   "execution_count": 10,
   "metadata": {},
   "outputs": [],
   "source": [
    "def short_words(string:'Text input'):\n",
    "        '''\n",
    "        This function displays the\n",
    "        words with dimension less than 4\n",
    "        -------\n",
    "        cedena: Text input\n",
    "        '''\n",
    "        a = [word for word in string.split() if len(word)<4]\n",
    "        return a"
   ]
  },
  {
   "cell_type": "code",
   "execution_count": 11,
   "metadata": {},
   "outputs": [
    {
     "data": {
      "text/plain": [
       "['to', 'the', 'to']"
      ]
     },
     "execution_count": 11,
     "metadata": {},
     "output_type": "execute_result"
    }
   ],
   "source": [
    "string = 'Pepe goes to the park to play with Jose'\n",
    "short_words(string)"
   ]
  },
  {
   "attachments": {},
   "cell_type": "markdown",
   "metadata": {},
   "source": [
    "##### <span style='color:lightblue'> 4. EstebanMqz </span><br> "
   ]
  },
  {
   "cell_type": "code",
   "execution_count": 12,
   "metadata": {},
   "outputs": [
    {
     "data": {
      "text/plain": [
       "['I', 'am', '4', 'of', 'my']"
      ]
     },
     "execution_count": 12,
     "metadata": {},
     "output_type": "execute_result"
    }
   ],
   "source": [
    "words_4 = 'I am doing exercise 4 of my Financial Process Simulation task with Professor Jaramillo'\n",
    "r = [x for x in words_4.split() if len(x)<4]\n",
    "r\n",
    "#List comprehension: Right: statement, Left: Stored content in dummy var."
   ]
  },
  {
   "attachments": {},
   "cell_type": "markdown",
   "metadata": {},
   "source": [
    "5. Use a dictionary comprehension to count the length of each word in a sentence."
   ]
  },
  {
   "attachments": {},
   "cell_type": "markdown",
   "metadata": {},
   "source": [
    "#### <span style='color:lightbrown'> 5. Ivan Arellano Ruelas </span><br> "
   ]
  },
  {
   "cell_type": "code",
   "execution_count": 13,
   "metadata": {},
   "outputs": [
    {
     "data": {
      "text/plain": [
       "{'Una': 3, 'palabra': 7, 'cualquiera': 10}"
      ]
     },
     "execution_count": 13,
     "metadata": {},
     "output_type": "execute_result"
    }
   ],
   "source": [
    "words= \"Una palabra cualquiera\"\n",
    "{word:len(word) for word in words.split()} "
   ]
  },
  {
   "attachments": {},
   "cell_type": "markdown",
   "metadata": {},
   "source": [
    "##### <span style='color:lightblue'> 5. EstebanMqz </span><br> "
   ]
  },
  {
   "cell_type": "code",
   "execution_count": 14,
   "metadata": {},
   "outputs": [
    {
     "data": {
      "text/plain": [
       "{'I': 1,\n",
       " 'am': 2,\n",
       " 'doing': 5,\n",
       " 'my': 2,\n",
       " 'task': 4,\n",
       " 'exercise': 8,\n",
       " '5': 1,\n",
       " 'of': 2,\n",
       " 'Simulation': 10,\n",
       " 'Financial': 9,\n",
       " 'Processes': 9,\n",
       " 'with': 4,\n",
       " 'Professor': 9,\n",
       " 'Jaramillo': 9}"
      ]
     },
     "execution_count": 14,
     "metadata": {},
     "output_type": "execute_result"
    }
   ],
   "source": [
    "#Dictionaries: They are made with {}, definitions can be repeated but they can't use the same key.\n",
    "words_5 = 'I am doing my task exercise 5 of Simulation of Financial Processes with Professor Jaramillo'\n",
    "r = {c:len(c) for c in words_5.split()} #Compression of dictionary which is contained within {}\n",
    "r #Conversion from list to dicc = conversion key (:)"
   ]
  },
  {
   "attachments": {},
   "cell_type": "markdown",
   "metadata": {},
   "source": [
    "6. Use a nested list comprehension to find all of the numbers from 1-1000 that are divisible by any single digit besides 1 (2-9). "
   ]
  },
  {
   "attachments": {},
   "cell_type": "markdown",
   "metadata": {},
   "source": [
    "#### <span style='color:lightbrown'> 6. Ivan Arellano Ruelas </span><br> "
   ]
  },
  {
   "cell_type": "code",
   "execution_count": 15,
   "metadata": {},
   "outputs": [
    {
     "data": {
      "text/plain": [
       "[2, 3, 4, 5, 6]"
      ]
     },
     "execution_count": 15,
     "metadata": {},
     "output_type": "execute_result"
    }
   ],
   "source": [
    "list6=[numero for numero in range(1,1001) if [divisor for divisor in range(2,10) if numero % divisor == 0]]\n",
    "list6[0:5] #Head"
   ]
  },
  {
   "cell_type": "code",
   "execution_count": 16,
   "metadata": {},
   "outputs": [
    {
     "data": {
      "text/plain": [
       "[995, 996, 998, 999, 1000]"
      ]
     },
     "execution_count": 16,
     "metadata": {},
     "output_type": "execute_result"
    }
   ],
   "source": [
    "list6[-5:] #Tail"
   ]
  },
  {
   "attachments": {},
   "cell_type": "markdown",
   "metadata": {},
   "source": [
    "##### <span style='color:lightblue'> 6. EstebanMqz </span><br> "
   ]
  },
  {
   "cell_type": "code",
   "execution_count": 17,
   "metadata": {},
   "outputs": [
    {
     "name": "stdout",
     "output_type": "stream",
     "text": [
      "The list of numbers divisible by single digits is: 772\n"
     ]
    }
   ],
   "source": [
    "print(\"The list of numbers divisible by single digits is:\", len([e for e in range (1,1001) if 0 in [e%d for d in range(2,10)]])) \n",
    "#compression of lists: 1 for, nested: 2 for; # #in range = all numbers between 1 and 1001 (1000 included)"
   ]
  }
 ],
 "metadata": {
  "kernelspec": {
   "display_name": "Python 3",
   "language": "python",
   "name": "python3"
  },
  "language_info": {
   "codemirror_mode": {
    "name": "ipython",
    "version": 3
   },
   "file_extension": ".py",
   "mimetype": "text/x-python",
   "name": "python",
   "nbconvert_exporter": "python",
   "pygments_lexer": "ipython3",
   "version": "3.8.13"
  }
 },
 "nbformat": 4,
 "nbformat_minor": 2
}
